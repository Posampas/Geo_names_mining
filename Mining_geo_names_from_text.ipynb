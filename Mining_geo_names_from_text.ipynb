{
 "cells": [
  {
   "cell_type": "markdown",
   "id": "323d687d",
   "metadata": {},
   "source": [
    "# Mining geo names from text.\n",
    "In this tutorial I will explain: how to extract geonames form text in polish. We will be connecting to Clarin web services, which provide many brilaint tools for language text processing. More inforamtion about this service can be found, on theirs web site https://clarin-pl.eu/.\n",
    "\n",
    "First thing that have to be done is istaling lpmn_client\n",
    "pip install -i https://pypi.clarin-pl.eu lpmn_client"
   ]
  },
  {
   "cell_type": "code",
   "execution_count": 41,
   "id": "69003a18",
   "metadata": {},
   "outputs": [],
   "source": [
    "from lpmn_client import download_file, upload_file\n",
    "from lpmn_client import Task\n",
    "import os\n",
    "import zipfile"
   ]
  },
  {
   "cell_type": "markdown",
   "id": "efd79604",
   "metadata": {},
   "source": [
    "Create file, and copy there some text. For me it will be wikipedia page about my home town Płock. "
   ]
  },
  {
   "cell_type": "code",
   "execution_count": 61,
   "id": "e0f78369",
   "metadata": {},
   "outputs": [
    {
     "data": {
      "text/plain": [
       "'Płock – miasto w Polsce, na prawach powiatu, położone na Pojezierzu Dobrzyńskim i w Kotlinie Płockiej, nad Wisłą, w województwie mazowieckim, siedziba ziemskiego powiatu płockiego; historyczna stolica Mazowsza oraz stolica Polski w latach 1079–1138; siedziba rzymskokatolickiej kurii diecezji płockiej (1075), siedziba biskupa naczelnego Kościoła Starokatolickiego Mariawitów, port rzeczny, rafineria ropy naftowej (1964), szkoły wyższe, teatry, muzea. Polskie miasto-bohater (1921).'"
      ]
     },
     "execution_count": 61,
     "metadata": {},
     "output_type": "execute_result"
    }
   ],
   "source": [
    "example_file_name = 'exampleText.txt'\n",
    "with open(example_file_name,\"r\") as f:\n",
    "    content = f.read()\n",
    "content"
   ]
  },
  {
   "cell_type": "markdown",
   "id": "894a9f65",
   "metadata": {},
   "source": [
    "Now it is time send that file to clarin. Let's create function for that. It takes tree parameters:\n",
    "- path_to_file-path to file that we would like to extract geo names from.\n",
    "- downlad_path-where the save the answer from the websevice\n",
    "- lmpn-what pipeline of process are to be performed on the text.\n",
    "\n",
    "I also created new directory in the project root called 'out'. To save results there."
   ]
  },
  {
   "cell_type": "code",
   "execution_count": 62,
   "id": "7d72fc9e",
   "metadata": {},
   "outputs": [],
   "source": [
    "def send_task_to_service(path_to_file, download_path,lmpn):\n",
    "    task = Task(lpmn=lmpn)\n",
    "    file_id = upload_file(path_to_file)\n",
    "    output_file_id = task.run(file_id)\n",
    "    return download_file(output_file_id, download_path)\n",
    "    "
   ]
  },
  {
   "cell_type": "code",
   "execution_count": 63,
   "id": "dc1cdb71",
   "metadata": {},
   "outputs": [],
   "source": [
    "path_to_file = example_file_name\n",
    "download_path ='./out'\n",
    "lmpn = 'any2txt|wcrft2({\"morfeusz2\":false})|liner2({\"model\":\"n82\"})|geolocation'\n",
    "send_task_to_service(path_to_file,download_path,lmpn)"
   ]
  },
  {
   "cell_type": "markdown",
   "id": "63b5b333",
   "metadata": {},
   "source": [
    "and now let's look in to our 'out' directory, the if condition is for the hidden files. We don't want to see them."
   ]
  },
  {
   "cell_type": "code",
   "execution_count": 64,
   "id": "f23e27ac",
   "metadata": {},
   "outputs": [],
   "source": [
    "def list_contents_of_folder(folder):\n",
    "    return [f.name for f in os.scandir(folder) if '.' not in f.name[0] ]"
   ]
  },
  {
   "cell_type": "code",
   "execution_count": 65,
   "id": "3f5e1712",
   "metadata": {},
   "outputs": [
    {
     "data": {
      "text/plain": [
       "['e7ceb3dc-12cb-4d63-a8e6-2cd2b224d290.zip']"
      ]
     },
     "execution_count": 65,
     "metadata": {},
     "output_type": "execute_result"
    }
   ],
   "source": [
    "downloads_file_contents = list_contents_of_folder(download_path)\n",
    "downloads_file_contents"
   ]
  },
  {
   "cell_type": "markdown",
   "id": "0e0a1618",
   "metadata": {},
   "source": [
    "Ok, so we have something there. Let's unpack it!"
   ]
  },
  {
   "cell_type": "code",
   "execution_count": 66,
   "id": "e8dd928f",
   "metadata": {},
   "outputs": [],
   "source": [
    "def unzipfile(path_to_zip,output_dir):\n",
    "    with zipfile.ZipFile(path_to_zip, 'r') as zip_ref:\n",
    "        zip_ref.extractall(output_dir)\n",
    "    "
   ]
  },
  {
   "cell_type": "code",
   "execution_count": 70,
   "id": "02be8f5d",
   "metadata": {},
   "outputs": [],
   "source": [
    "path_to_downloaded_file = os.path.join(download_path,downloads_file_contents[0])\n",
    "unzipfile(path_to_downloaded_file,download_path)"
   ]
  },
  {
   "cell_type": "markdown",
   "id": "023db094",
   "metadata": {},
   "source": [
    "Let's list our downolad direcotry to see it there are any changes"
   ]
  },
  {
   "cell_type": "code",
   "execution_count": 71,
   "id": "44e60c0d",
   "metadata": {},
   "outputs": [
    {
     "data": {
      "text/plain": [
       "['exampleText.txt', 'e7ceb3dc-12cb-4d63-a8e6-2cd2b224d290.zip']"
      ]
     },
     "execution_count": 71,
     "metadata": {},
     "output_type": "execute_result"
    }
   ],
   "source": [
    "list_contents_of_folder(download_path)"
   ]
  },
  {
   "cell_type": "markdown",
   "id": "35375e40",
   "metadata": {},
   "source": [
    "Ok, so we see that compressed in that strangly named file, there is a file named exacly like those we had sent. Let's look inside. What misturies it holds?"
   ]
  },
  {
   "cell_type": "code",
   "execution_count": 81,
   "id": "2756112b",
   "metadata": {},
   "outputs": [
    {
     "data": {
      "text/plain": [
       "'<?xml version=\"1.0\" encoding=\"UTF-8\"?>\\n<!DOCTYPE chunkList SYSTEM \"ccl.dtd\">\\n<chunkList>\\n <chunk type=\"p\" id=\"ch1\">\\n  <sentence id=\"s1\">\\n   <tok>\\n    <orth>Płock</orth>\\n    <lex disamb=\"1\"><base>Płock</base><ctag>subst:sg:nom:m3</ctag></lex>\\n    <ann chan=\"nam_org_organization\">0</ann>\\n    <ann chan=\"nam_fac_goe\">0</ann>\\n    <ann chan=\"nam_loc_gpe_admin1\">0</ann>\\n    <ann chan=\"nam_loc_gpe_city\" head=\"1\">2</ann>\\n    <ann chan=\"nam_loc_country_region\">0</ann>\\n    <ann chan=\"nam_loc_gpe_country\">0'"
      ]
     },
     "execution_count": 81,
     "metadata": {},
     "output_type": "execute_result"
    }
   ],
   "source": [
    "path_to_extracted_example_file = os.path.join(download_path,path_to_file)\n",
    "with open(path_to_extracted_example_file,\"r\") as f:\n",
    "    content = f.read()\n",
    "content[0:500]"
   ]
  },
  {
   "cell_type": "markdown",
   "id": "21ae7d3a",
   "metadata": {},
   "source": [
    "As you can see the returned document is xml.\n",
    "\n",
    "To extract valuable inforamtion we have to parse that document.\n"
   ]
  },
  {
   "cell_type": "code",
   "execution_count": 89,
   "id": "5bc92ef6",
   "metadata": {},
   "outputs": [],
   "source": [
    "import xml.etree.ElementTree as ET"
   ]
  },
  {
   "cell_type": "code",
   "execution_count": 90,
   "id": "57b3d9ca",
   "metadata": {},
   "outputs": [],
   "source": [
    "def parse_xml_for_geo_names(xml_file):\n",
    "    tree = ET.parse(xml_file)\n",
    "    root = tree.getroot()\n",
    "    base_tags = root.findall('./chunk/sentence/tok/prop')\n",
    "    return list(map(lambda x: x.text,base_tags))"
   ]
  },
  {
   "cell_type": "code",
   "execution_count": 91,
   "id": "fc928d15",
   "metadata": {},
   "outputs": [
    {
     "data": {
      "text/plain": [
       "['19.7136301805999;52.5353471;administrative;Płock, województwo mazowieckie, Polska',\n",
       " '19.0258159;52.0977181;administrative;Polska',\n",
       " '20.0867774;52.380897;river;Wisła, gmina Wyszogród, powiat płocki, województwo mazowieckie, 43-450, Polska',\n",
       " '21.2073404;52.5461934;administrative;województwo mazowieckie, Polska',\n",
       " '19.4638889;50.1708333;neighbourhood;Płaczki, Trzebinia, gmina Trzebinia, powiat chrzanowski, województwo małopolskie, 32-540, Polska',\n",
       " '21.2073404;52.5461934;administrative;województwo mazowieckie, Polska',\n",
       " '19.0258159;52.0977181;administrative;Polska']"
      ]
     },
     "execution_count": 91,
     "metadata": {},
     "output_type": "execute_result"
    }
   ],
   "source": [
    "parse_xml_for_geo_names(path_to_extracted_example_file)"
   ]
  },
  {
   "cell_type": "markdown",
   "id": "48af6ad9",
   "metadata": {},
   "source": [
    "Succes, there are bunch of names that have been found in the text. But I already see one mistake. There is \"Płaczki, Trzebinia\" found as a palce mentioned in the text. Accualy, I am from Płock, and belive me Płock has nothing to do with Trzebinia. So how to repair that?\n",
    "\n",
    "We have to add additonal step to text procesing pipeline. Namely we need to add Lemmatisation.\n",
    "Unfortunaly clarin do not work well with geolocalization and lemmatisaion. That means, if we provide lmpn like that:\n",
    "'any2txt|wcrft2({\"morfeusz2\":false})|liner2({\"model\":\"n82\"})|ccl_emo({\"lang\":\"polish\"})|geolocation({\"limit\":1})'\n",
    "\n",
    "Clarin won't be searching for assosiations for base form of the word, but for orginal form. Thats why we need workaround. We will send text to clarin with following lmpn:\n",
    "\n",
    "any2txt|wcrft2({\"morfeusz2\":false})|liner2({\"model\":\"n82\"})|ccl_emo({\"lang\":\"polish\"})\n",
    "\n",
    "Then we will parse the response, and create new text. In this new every world will be replaced with its base form. And that lemmatized text will be send to clarin once again, to find geolocation.\n",
    "\n",
    "any2txt|wcrft2({\"morfeusz2\":false})|liner2({\"model\":\"n82\"})|geolocation({\"limit\":1})\n"
   ]
  },
  {
   "cell_type": "markdown",
   "id": "d146c321",
   "metadata": {},
   "source": [
    "Let's clear the out file"
   ]
  },
  {
   "cell_type": "code",
   "execution_count": 94,
   "id": "d8d5cec3",
   "metadata": {},
   "outputs": [],
   "source": [
    "for file in list_contents_of_folder(download_path):\n",
    "    path = os.path.join(download_path,file)\n",
    "    os.remove(path)"
   ]
  },
  {
   "cell_type": "code",
   "execution_count": 95,
   "id": "7a7517ad",
   "metadata": {},
   "outputs": [
    {
     "data": {
      "text/plain": [
       "[]"
      ]
     },
     "execution_count": 95,
     "metadata": {},
     "output_type": "execute_result"
    }
   ],
   "source": [
    "list_contents_of_folder(download_path)"
   ]
  },
  {
   "cell_type": "code",
   "execution_count": 97,
   "id": "3f504dbd",
   "metadata": {},
   "outputs": [],
   "source": [
    "conduct_lammatisation = 'any2txt|wcrft2({\"morfeusz2\":false})|liner2({\"model\":\"n82\"})|ccl_emo({\"lang\":\"polish\"})'\n",
    "base_from_zip=send_task_to_service(path_to_file,download_path,conduct_lammatisation)\n",
    "unzipfile(base_from_zip,download_path)"
   ]
  },
  {
   "cell_type": "code",
   "execution_count": 98,
   "id": "70dadf07",
   "metadata": {},
   "outputs": [],
   "source": [
    "# extract base form from xml tree and joins them to singe string\n",
    "def parse_xml_for_base_from_of_word(xml_file):\n",
    "    tree = ET.parse(xml_file)\n",
    "    root = tree.getroot()\n",
    "    base_tags = root.findall('./chunk/sentence/tok/lex/base')\n",
    "    base_words = list(map(lambda x: x.text,base_tags))\n",
    "    return ' '.join(base_words)"
   ]
  },
  {
   "cell_type": "markdown",
   "id": "54cff6f0",
   "metadata": {},
   "source": [
    "Now this tekst looks like that"
   ]
  },
  {
   "cell_type": "code",
   "execution_count": 99,
   "id": "6b84eb64",
   "metadata": {},
   "outputs": [
    {
     "data": {
      "text/plain": [
       "'Płock – miasto w Polska , na prawo powiat , położyć na pojezierze dobrzyński i w kotlina płocki , nad Wisła , w województwo mazowiecki , siedziba ziemski powiat płocki ; historyczny stolica Mazowsze oraz stolica Polska w rok 1079 – 1138 ; siedziba rzymskokatolicki kuria diecezja płocki ( 1075 ) , siedziba biskup naczelny kościół starokatolicki mariawita , port rzeczny , rafineria ropa naftowy ( 1964 ) , szkoła wysoki , teatr , muzeum . polski miasto - bohater ( 1921 ) .'"
      ]
     },
     "execution_count": 99,
     "metadata": {},
     "output_type": "execute_result"
    }
   ],
   "source": [
    "text_in_base_form = parse_xml_for_base_from_of_word(path_to_extracted_example_file)\n",
    "text_in_base_form"
   ]
  },
  {
   "cell_type": "code",
   "execution_count": 136,
   "id": "40025f56",
   "metadata": {},
   "outputs": [],
   "source": [
    "base_form_file_path = os.path.join(download_path, \"base_form_text.txt\")\n",
    "file = open(base_form_file_path,'w')\n",
    "file.write(text_in_base_form)\n",
    "file.close()"
   ]
  },
  {
   "cell_type": "code",
   "execution_count": 138,
   "id": "3a83ed34",
   "metadata": {},
   "outputs": [],
   "source": [
    "geolocation = 'any2txt|wcrft2({\"morfeusz2\":false})|liner2({\"model\":\"n82\"})|geolocation({\"limit\":\"1\"})'\n",
    "output_path = os.path.join(\"geo\")\n",
    "path_to_zip = send_task_to_service(base_form_file_path,output_path,geolocation)"
   ]
  },
  {
   "cell_type": "code",
   "execution_count": 139,
   "id": "809aeb59",
   "metadata": {},
   "outputs": [],
   "source": [
    "unzipfile(path_to_zip,output_path)"
   ]
  },
  {
   "cell_type": "code",
   "execution_count": 140,
   "id": "109609b9",
   "metadata": {},
   "outputs": [
    {
     "data": {
      "text/plain": [
       "['19.7136301805999;52.5353471;administrative;Płock, województwo mazowieckie, Polska',\n",
       " '19.0258159;52.0977181;administrative;Polska',\n",
       " '20.0867774;52.380897;river;Wisła, gmina Wyszogród, powiat płocki, województwo mazowieckie, 43-450, Polska',\n",
       " '21.2073404;52.5461934;administrative;województwo mazowieckie, Polska',\n",
       " '19.4638889;50.1708333;neighbourhood;Płaczki, Trzebinia, gmina Trzebinia, powiat chrzanowski, województwo małopolskie, 32-540, Polska',\n",
       " '21.2073404;52.5461934;administrative;województwo mazowieckie, Polska']"
      ]
     },
     "execution_count": 140,
     "metadata": {},
     "output_type": "execute_result"
    }
   ],
   "source": [
    "extracted_file_path = os.path.join(output_path,'out%base_form_text.txt')\n",
    "parse_xml_for_geo_names(extracted_file_path)"
   ]
  },
  {
   "cell_type": "markdown",
   "id": "37d8deb3",
   "metadata": {},
   "source": [
    "And as can be see that didin't help it this case, but from my expirence it is still worth doing. That addidional step helps to reduce many uncorrect clasiflications. However, not this particular one. This software has its limitations and lots of caution is needed when using it for more responsible applications. It has still very good quality, especilay when copmpared to costs."
   ]
  },
  {
   "cell_type": "code",
   "execution_count": null,
   "id": "cda2a3fa",
   "metadata": {},
   "outputs": [],
   "source": []
  }
 ],
 "metadata": {
  "kernelspec": {
   "display_name": "myenv",
   "language": "python",
   "name": "myenv"
  },
  "language_info": {
   "codemirror_mode": {
    "name": "ipython",
    "version": 3
   },
   "file_extension": ".py",
   "mimetype": "text/x-python",
   "name": "python",
   "nbconvert_exporter": "python",
   "pygments_lexer": "ipython3",
   "version": "3.9.13"
  }
 },
 "nbformat": 4,
 "nbformat_minor": 5
}
